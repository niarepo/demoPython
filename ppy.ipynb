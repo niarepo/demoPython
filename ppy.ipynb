{
  "metadata": {
    "kernelspec": {
      "name": "python",
      "display_name": "Python (Pyodide)",
      "language": "python"
    },
    "language_info": {
      "codemirror_mode": {
        "name": "python",
        "version": 3
      },
      "file_extension": ".py",
      "mimetype": "text/x-python",
      "name": "python",
      "nbconvert_exporter": "python",
      "pygments_lexer": "ipython3",
      "version": "3.8"
    }
  },
  "nbformat_minor": 4,
  "nbformat": 4,
  "cells": [
    {
      "cell_type": "markdown",
      "source": "# Exercise Demo Python\nExercise 2 - Create a markdown cell with the title of the notebook. (1 pt)",
      "metadata": {}
    },
    {
      "cell_type": "markdown",
      "source": "# Introduction\nExercise 3 - Create a markdown cell for an introduction. (1 pt)",
      "metadata": {}
    },
    {
      "cell_type": "markdown",
      "source": "## Data Science Languages\n- Python\n- R\n- SQL\n\nExercise 4 - Create a markdown cell to list data science languages. (3 pts)",
      "metadata": {}
    },
    {
      "cell_type": "markdown",
      "source": "## Data Science Libraries\n- NumPy\n- pandas\n- matplotlib\n- scikit-learn\n- TensorFlow\n\nExercise 5 - Create a markdown cell to list data science libraries. (3 pts)",
      "metadata": {}
    },
    {
      "cell_type": "markdown",
      "source": "## Data Science Tools\n\n| Tool          | Description                             |\n|---------------|-----------------------------------------|\n| Jupyter       | Interactive notebooks for data science  |\n| RStudio       | IDE for R programming                   |\n| VS Code       | General-purpose code editor             |\n| PyCharm       | IDE for Python programming              |\n| Tableau       | Data visualization and analytics tool   |\n\nExercise 6 - Create a markdown cell with a table of Data Science tools. (3 pts)",
      "metadata": {}
    },
    {
      "cell_type": "markdown",
      "source": "## Arithmetic Expression Examples\nThis section provides examples of arithmetic expressions.\n\nresult = a * b + c \n\nExercise 7 - Create a markdown cell introducing arithmetic expression examples. (1 pt)\n",
      "metadata": {}
    },
    {
      "cell_type": "code",
      "source": "### Multiplication and Addition\nresult = 5 * 3 + 2\nprint(result)\n# Exercise 8 - Create a code cell to multiply and add numbers. (2 pts)",
      "metadata": {
        "trusted": true
      },
      "outputs": [
        {
          "name": "stdout",
          "text": "17\n",
          "output_type": "stream"
        }
      ],
      "execution_count": 6
    },
    {
      "cell_type": "code",
      "source": "# Convert minutes to hours\nminutes = 120\nhours = minutes / 60\nprint(hours)\n\n#Exercise 9 - Create a code cell to convert minutes to hours. (2 pts)",
      "metadata": {
        "trusted": true
      },
      "outputs": [
        {
          "name": "stdout",
          "text": "2.0\n",
          "output_type": "stream"
        }
      ],
      "execution_count": 8
    },
    {
      "cell_type": "markdown",
      "source": "# Objectives\n\n- Objective 1\n- Objective 2\n- Objective 3\n\nExercise 10 -Insert a markdown cell to list Objectives. (3 pts)",
      "metadata": {}
    },
    {
      "cell_type": "markdown",
      "source": "# Author \n\nPozy PPY\n\nExercise 11 - Create a markdown cell to indicate the Author’s name. (2 pts)",
      "metadata": {}
    }
  ]
}